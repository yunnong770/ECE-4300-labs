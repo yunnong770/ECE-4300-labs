{
 "cells": [
  {
   "cell_type": "markdown",
   "metadata": {},
   "source": [
    "# Lab:  Nonlinear Least Squares for Modeling Materials\n",
    "\n",
    "In this lab, we will explore gradient descent on nonlinear least squares.  \n",
    "\n",
    "Suppose we wish to fit a model of the form,\n",
    "\n",
    "     yhat ~= f(x,w)\n",
    "     \n",
    "where `x` is a vector of features, `w` is a vector of parameters and `f` is a nonlinear function of `w`.  Often we find the parameters `w` that minimize a squared-error cost of the form \n",
    "\n",
    "     J(w) = \\sum_i (y_i - f(x_i,w))^2\n",
    "     \n",
    "where the summation is over training samples `(x_i,y_i)`.  This problem is known as nonlinear least-squares (NLLS).  In general, this optimization problem has no closed-form expression, and so gradient descent is widely used.  \n",
    "\n",
    "In this lab, we will apply NLLS to the physical modeling of materials.  Specifically, we will estimate parameters in a model for the expansion of copper as a function of temperature.  In doing this lab, you will learn to:\n",
    "* Set up a nonlinear least squares as an unconstrained optimization function\n",
    "* Compute initial parameter estimates for a simple rational model\n",
    "* Compute the gradients of the least squares objective\n",
    "* Implement gradient descent for minimizing the objective\n",
    "* Implement momentum gradient descent\n",
    "* Visualize the convergence of the algorithm\n",
    "\n",
    "We first import some key packages."
   ]
  },
  {
   "cell_type": "code",
   "execution_count": 1,
   "metadata": {},
   "outputs": [],
   "source": [
    "import pandas as pd\n",
    "import numpy as np\n",
    "import matplotlib.pyplot as plt\n",
    "from sklearn.linear_model import Ridge, LinearRegression"
   ]
  },
  {
   "cell_type": "markdown",
   "metadata": {},
   "source": [
    "## Load the Data\n",
    "\n",
    "The NIST agency has an excellent [nonlinear regression website](https://www.itl.nist.gov/div898/strd/nls/nls_main.shtml) that has several datasets appropriate for nonlinear regression problems.  In this lab, we will use the data from a NIST study involving the thermal expansion of copper. The response variable is the coefficient of thermal expansion, and the predictor variable is temperature in degrees kelvin.  \n",
    "\n",
    "> Hahn, T., NIST (1979), Copper Thermal Expansion Study.  (unpublished}\n",
    "\n",
    "You can download the data as follows."
   ]
  },
  {
   "cell_type": "code",
   "execution_count": 2,
   "metadata": {},
   "outputs": [
    {
     "data": {
      "text/html": [
       "<div>\n",
       "<style scoped>\n",
       "    .dataframe tbody tr th:only-of-type {\n",
       "        vertical-align: middle;\n",
       "    }\n",
       "\n",
       "    .dataframe tbody tr th {\n",
       "        vertical-align: top;\n",
       "    }\n",
       "\n",
       "    .dataframe thead th {\n",
       "        text-align: right;\n",
       "    }\n",
       "</style>\n",
       "<table border=\"1\" class=\"dataframe\">\n",
       "  <thead>\n",
       "    <tr style=\"text-align: right;\">\n",
       "      <th></th>\n",
       "      <th>x0</th>\n",
       "      <th>y0</th>\n",
       "      <th>dummy</th>\n",
       "    </tr>\n",
       "  </thead>\n",
       "  <tbody>\n",
       "    <tr>\n",
       "      <th>0</th>\n",
       "      <td>0.591</td>\n",
       "      <td>24.41</td>\n",
       "      <td>NaN</td>\n",
       "    </tr>\n",
       "    <tr>\n",
       "      <th>1</th>\n",
       "      <td>1.547</td>\n",
       "      <td>34.82</td>\n",
       "      <td>NaN</td>\n",
       "    </tr>\n",
       "    <tr>\n",
       "      <th>2</th>\n",
       "      <td>2.902</td>\n",
       "      <td>44.09</td>\n",
       "      <td>NaN</td>\n",
       "    </tr>\n",
       "    <tr>\n",
       "      <th>3</th>\n",
       "      <td>2.894</td>\n",
       "      <td>45.07</td>\n",
       "      <td>NaN</td>\n",
       "    </tr>\n",
       "    <tr>\n",
       "      <th>4</th>\n",
       "      <td>4.703</td>\n",
       "      <td>54.98</td>\n",
       "      <td>NaN</td>\n",
       "    </tr>\n",
       "  </tbody>\n",
       "</table>\n",
       "</div>"
      ],
      "text/plain": [
       "      x0     y0  dummy\n",
       "0  0.591  24.41    NaN\n",
       "1  1.547  34.82    NaN\n",
       "2  2.902  44.09    NaN\n",
       "3  2.894  45.07    NaN\n",
       "4  4.703  54.98    NaN"
      ]
     },
     "execution_count": 2,
     "metadata": {},
     "output_type": "execute_result"
    }
   ],
   "source": [
    "url = 'https://itl.nist.gov/div898/strd/nls/data/LINKS/DATA/Hahn1.dat'\n",
    "df = pd.read_csv(url, skiprows=60, sep=' ',skipinitialspace=True, names=['x0','y0','dummy'])\n",
    "df.head()"
   ]
  },
  {
   "cell_type": "markdown",
   "metadata": {},
   "source": [
    "Extract the `x0` and `y0` into arrays.  Rescale `x0` and `y0` to values between `0` and `1` by dividing `x0` and `y0` by the maximum value.  Store the scaled values in vectors `x` and `y`.  The rescaling will help with the conditioning of the fitting.  Plot `y` vs. `x`. "
   ]
  },
  {
   "cell_type": "code",
   "execution_count": 3,
   "metadata": {},
   "outputs": [
    {
     "data": {
      "text/plain": [
       "Text(0, 0.5, 'y')"
      ]
     },
     "execution_count": 3,
     "metadata": {},
     "output_type": "execute_result"
    },
    {
     "data": {
      "image/png": "[encoded data removed]",
      "text/plain": [
       "<Figure size 432x288 with 1 Axes>"
      ]
     },
     "metadata": {
      "needs_background": "light"
     },
     "output_type": "display_data"
    }
   ],
   "source": [
    "# TODO\n",
    "# x0 = ...\n",
    "# y0 = ...\n",
    "# x = x0/np.max(x0)\n",
    "# y = y0/np.max(y0)\n",
    "# plt.plot(...)\n",
    "x0 = np.array(df['x0'])\n",
    "y0 = np.array(df['y0'])\n",
    "x = x0/np.max(x0)\n",
    "y = y0/np.max(y0)\n",
    "plt.plot(x,y,'.b')\n",
    "plt.title(\"y vs x\")\n",
    "plt.xlabel(\"x\")\n",
    "plt.ylabel(\"y\")"
   ]
  },
  {
   "cell_type": "markdown",
   "metadata": {},
   "source": [
    "To make the problem a little more challenging, we will add some noise.  Add random Gaussian noise with mean 0 and std. dev = 0.05 to `y`.  Store the noisy results in `yn`. You can use the `np.random.normal()` function to add Gaussian noise. Plot `yn` vs. `x`."
   ]
  },
  {
   "cell_type": "code",
   "execution_count": 4,
   "metadata": {
    "scrolled": true
   },
   "outputs": [
    {
     "data": {
      "text/plain": [
       "Text(0, 0.5, 'yn')"
      ]
     },
     "execution_count": 4,
     "metadata": {},
     "output_type": "execute_result"
    },
    {
     "data": {
      "image/png": "[encoded data removed]",
      "text/plain": [
       "<Figure size 432x288 with 1 Axes>"
      ]
     },
     "metadata": {
      "needs_background": "light"
     },
     "output_type": "display_data"
    }
   ],
   "source": [
    "# TODO\n",
    "# yn = y + ...\n",
    "yn = y + np.random.normal(0,0.05,y.shape)\n",
    "plt.plot(x,yn,'.b')\n",
    "plt.title(\"yn vs x\")\n",
    "plt.xlabel(\"x\")\n",
    "plt.ylabel(\"yn\")"
   ]
  },
  {
   "cell_type": "markdown",
   "metadata": {},
   "source": [
    "Split the data `(x,yn)` into training and test.  Let `xtr,ytr` be training data and `xts,yts` be the test data.  You can use the `train_test_split` function.  Set `test_size=0.33` so that 1/3 of the samples are held out for test."
   ]
  },
  {
   "cell_type": "code",
   "execution_count": 5,
   "metadata": {},
   "outputs": [],
   "source": [
    "from sklearn.model_selection import train_test_split\n",
    "\n",
    "# TODO\n",
    "# xtr, xts, ytr, yts = ...\n",
    "xtr, xts, ytr, yts = train_test_split(x, yn, test_size= 0.33)"
   ]
  },
  {
   "cell_type": "markdown",
   "metadata": {},
   "source": [
    "## Initial Fit for a Rational Model\n",
    "\n",
    "The [NIST website](https://www.itl.nist.gov/div898/strd/nls/data/hahn1.shtml) suggests using a *rational* model of the form,\n",
    "\n",
    "      yhat = (a[0] + a[1]*x + ... + a[d]*x^d)/(1 + b[0]*x + ... + b[d-1]*x^d)\n",
    "      \n",
    "with `d=3`.  The model parameters are `w = [a[0],...,a[d],b[0],...,b[d-1]]`, so there are `2d+1` parameters total.    Complete the function below that takes vectors `w` and `x` and predicts a set of values `yhat` using the above model.\n",
    "   "
   ]
  },
  {
   "cell_type": "code",
   "execution_count": 6,
   "metadata": {},
   "outputs": [],
   "source": [
    "def predict(w,x):\n",
    "    \n",
    "    # Get the length\n",
    "    d = (len(w)-1)//2\n",
    "    \n",
    "    # TODO.  Extract a and b from w\n",
    "    # a = ...\n",
    "    # b = ...\n",
    "    a = w[0:d+1]\n",
    "    b = w[d+1:]\n",
    "    \n",
    "    # TODO.  Compute yhat.  You may use the np.polyval function\n",
    "    # But, remember you must flip the order the a and b\n",
    "    # yhat = ...\n",
    "    yhat = np.polyval(np.flip(a),x)/(np.polyval(np.append(np.flip(b),1),x))\n",
    "    return yhat"
   ]
  },
  {
   "cell_type": "markdown",
   "metadata": {},
   "source": [
    "When we fit with a nonlinear model, most methods only obtain convergence to a local minimum.  For that local minimum to be the global minimum, we need a good initial condition.  For a rational model, one way to get a good initialization is to realize that if\n",
    "\n",
    "    y ~= (a[0] + a[1]*x + ... + a[d]*x^d)/(1 + b[0]*x + ... + b[d-1]*x^d)\n",
    "    \n",
    "then\n",
    "\n",
    "    y ~= a[0] + a[1]*x + ... + a[d]*x^d - b[0]*x*y + ... - b[d-1]*x^d*y.\n",
    "    \n",
    "So, we can initially solve for the parameters `w = [a,b]` using linear regression with the features\n",
    "\n",
    "    Z[i,:] = [ x[i], ... , x[i]**d, y[i]*x[i], ... , y[i}*x[i]**d ]."
   ]
  },
  {
   "cell_type": "code",
   "execution_count": 7,
   "metadata": {},
   "outputs": [
    {
     "name": "stdout",
     "output_type": "stream",
     "text": [
      "[ 0.08070008 -0.41008586  0.50381886 -0.1670677  -5.39921383  8.1065773\n",
      " -3.71186947]\n"
     ]
    }
   ],
   "source": [
    "d = 3\n",
    "from sklearn import linear_model\n",
    "\n",
    "# TODO.  Create the transformed feature matrix\n",
    "# Z = ...\n",
    "Z = np.zeros((xtr.size,6))\n",
    "for i in range(xtr.size):\n",
    "    Z[i,:] = [xtr[i]**1, xtr[i]**2, xtr[i]**3, ytr[i]*xtr[i]**1, ytr[i]*xtr[i]**2, ytr[i]*xtr[i]**3]\n",
    "\n",
    "# TODO.  Fit with parameters with linear regression\n",
    "# regr = LinearRegression()\n",
    "# regr.fit(...)\n",
    "regr = linear_model.LinearRegression()\n",
    "regr.fit(Z,ytr)\n",
    "\n",
    "# TODO\n",
    "# Extract the parameters from regr.coef_ and regr.intercept_ and store the parameter vector in winit\n",
    "# winit = ...\n",
    "#winit = np.append(regr.coef_, regr.intercept_)\n",
    "coefa = np.append([regr.intercept_],regr.coef_[:d])\n",
    "coefb = -regr.coef_[d:]\n",
    "winit = np.append(coefa,coefb)\n",
    "print(winit)"
   ]
  },
  {
   "cell_type": "markdown",
   "metadata": {},
   "source": [
    "Now plot the predicted value `yhat` versus `x` using your initial parameter estimate `winit`.  Use 1000 values of `x` uniformly spaced over the interval `[0,1]`.  On the same plot, superimpose the points `(xts,yts)`.  You will see that the prediction curve has some singularities."
   ]
  },
  {
   "cell_type": "code",
   "execution_count": 8,
   "metadata": {},
   "outputs": [
    {
     "data": {
      "text/plain": [
       "Text(0, 0.5, 'y')"
      ]
     },
     "execution_count": 8,
     "metadata": {},
     "output_type": "execute_result"
    },
    {
     "data": {
      "image/png": "[encoded data removed]",
      "text/plain": [
       "<Figure size 432x288 with 1 Axes>"
      ]
     },
     "metadata": {
      "needs_background": "light"
     },
     "output_type": "display_data"
    }
   ],
   "source": [
    "# TODO\n",
    "# xp = ...\n",
    "# yhat = ...\n",
    "# plot(...)\n",
    "xp = np.linspace(0,1,1000)\n",
    "yhat = predict(winit,xp)\n",
    "plt.plot(xp,yhat,'.r', label = \"predicted yhat\")\n",
    "plt.scatter(xts,yts, label = \"yts\")\n",
    "plt.legend(bbox_to_anchor=(1.1,0.65), loc='upper left', borderaxespad=0.)\n",
    "plt.xlim([0,1])\n",
    "plt.ylim([0,1])\n",
    "plt.xlabel(\"x\")\n",
    "plt.ylabel(\"y\")"
   ]
  },
  {
   "cell_type": "markdown",
   "metadata": {},
   "source": [
    "The problem with the prediction curve is that the denominator in our polynomial model for `yhat` goes to zero at certain values of `x` in `[0,1]`.  As a result, some of the `z` features become correlated, and the least-squares fit for `winit` includes relatively large coefficient values. To avoid this problem, we can use Ridge regression in an effort to keep the `winit` parameters closer to zero.  Re-run the fit above with `Ridge` with `alpha = 1e-2`. You should see a much better (but not perfect) fit."
   ]
  },
  {
   "cell_type": "code",
   "execution_count": 9,
   "metadata": {},
   "outputs": [
    {
     "data": {
      "text/plain": [
       "Text(0, 0.5, 'y')"
      ]
     },
     "execution_count": 9,
     "metadata": {},
     "output_type": "execute_result"
    },
    {
     "data": {
      "image/png": "[encoded data removed]",
      "text/plain": [
       "<Figure size 432x288 with 1 Axes>"
      ]
     },
     "metadata": {
      "needs_background": "light"
     },
     "output_type": "display_data"
    }
   ],
   "source": [
    "# TODO.  Fit with parameters with linear regression\n",
    "# regr = Ridge(alpha=1e-3)\n",
    "# regr.fit(...)\n",
    "regr = Ridge(alpha=1e-2)\n",
    "regr.fit(Z,ytr)\n",
    "\n",
    "# TODO\n",
    "# Extract the parameters from regr.coef_ and regr.intercept_\n",
    "# winit = ...\n",
    "#winit = np.append(regr.coef_, regr.intercept_)\n",
    "coefa = np.append([regr.intercept_],regr.coef_[:d])\n",
    "coefb = -regr.coef_[d:]\n",
    "winit = np.append(coefa,coefb)\n",
    "\n",
    "# TODO\n",
    "# Plot the results as above.\n",
    "xp = np.linspace(0,1,1000)\n",
    "yhat = predict(winit,xp)\n",
    "plt.plot(xp,yhat,'.r', label = \"predicted yhat\")\n",
    "plt.scatter(xts,yts, label = \"yts\")\n",
    "plt.legend(bbox_to_anchor=(1.1,0.65), loc='upper left', borderaxespad=0.)\n",
    "plt.xlim([0,1])\n",
    "plt.ylim([0,1])\n",
    "plt.xlabel(\"x\")\n",
    "plt.ylabel(\"y\")"
   ]
  },
  {
   "cell_type": "markdown",
   "metadata": {},
   "source": [
    "## Creating a Loss Function\n",
    "\n",
    "We can now use gradient descent to improve our initial estimate of the weights `w`.  Complete the construction of the following function, which is used to compute the cost\n",
    "\n",
    "    f(w) = 0.5*\\sum_i (y[i] - yhat[i])^2\n",
    "    \n",
    "and `fgrad`, the gradient of `f(w)`."
   ]
  },
  {
   "cell_type": "code",
   "execution_count": 10,
   "metadata": {},
   "outputs": [],
   "source": [
    "def feval(w,x,y):\n",
    "          \n",
    "    # TODO.  Parse w\n",
    "    # a = ...\n",
    "    # b = ...\n",
    "    a = w[0:d+1]\n",
    "    b = w[d+1:]\n",
    "    \n",
    "    # TODO.  Znum[i,j] = x[i]**j\n",
    "    Znum = np.zeros((x.size,4))\n",
    "    for j in range(4):\n",
    "        Znum[:,j] = x[:]**j\n",
    "    \n",
    "    # TODO.  Zden[i,j] = x[i]**(j+1)\n",
    "    Zden = np.zeros((x.size,3))\n",
    "    for j in range(3):\n",
    "        Zden[:,j] = x[:]**(j+1)\n",
    "        \n",
    "    # TODO.  Compute yhat \n",
    "    # Compute the numerator and denominator\n",
    "    yhat = Znum.dot(a)/(1+Zden.dot(b))\n",
    "    \n",
    "    # TODO.  Compute loss\n",
    "    # f = ...\n",
    "    f = 0.5*np.sum((y-yhat)**2)\n",
    "    \n",
    "    # TODO.  Compute gradients\n",
    "    df_dyhat = yhat-y\n",
    "    gdw0 = np.sum(df_dyhat*Znum[:,0]/(1+Zden.dot(b)))\n",
    "    gdw1 = np.sum(df_dyhat*Znum[:,1]/(1+Zden.dot(b)))\n",
    "    gdw2 = np.sum(df_dyhat*Znum[:,2]/(1+Zden.dot(b)))\n",
    "    gdw3 = np.sum(df_dyhat*Znum[:,3]/(1+Zden.dot(b)))\n",
    "    gdw4 = np.sum(-df_dyhat*Zden[:,0]*Znum.dot(a)/(1+Zden.dot(b))**2)\n",
    "    gdw5 = np.sum(-df_dyhat*Zden[:,1]*Znum.dot(a)/(1+Zden.dot(b))**2)\n",
    "    gdw6 = np.sum(-df_dyhat*Zden[:,2]*Znum.dot(a)/(1+Zden.dot(b))**2)\n",
    "    fgrad = np.array([gdw0, gdw1, gdw2, gdw3, gdw4, gdw5, gdw6])\n",
    "    \n",
    "    return f, fgrad\n"
   ]
  },
  {
   "cell_type": "markdown",
   "metadata": {},
   "source": [
    "Now, test your gradient computation:\n",
    "* Set `w0=winit` and compute `f0,fgrad0 = feval(w0,xtr,ytr)`\n",
    "* Take a `w1` very close to `w0` and compute `f1,fgrad1 = feval(w1,xtr,ytr)`\n",
    "* Verify that `f1-f0` is close to the predicted value based on the gradient."
   ]
  },
  {
   "cell_type": "code",
   "execution_count": 11,
   "metadata": {},
   "outputs": [
    {
     "name": "stdout",
     "output_type": "stream",
     "text": [
      "-0.0007102231713134177\n",
      "-0.0007097367234178338\n"
     ]
    }
   ],
   "source": [
    "# TODO\n",
    "step = 1e-6\n",
    "w0 = winit\n",
    "w1 = w0 + step*np.random.randn(7)\n",
    "f0, fgrad0 = feval(w0,xtr,ytr)\n",
    "f1, fgrad0 = feval(w1,xtr,ytr)\n",
    "df_est = fgrad0.dot(w1-w0)\n",
    "print(f1-f0)\n",
    "print(df_est)"
   ]
  },
  {
   "cell_type": "markdown",
   "metadata": {},
   "source": [
    "+021..............................................................................................22## Implement gradient descent\n",
    "\n",
    "We will now try to minimize the loss function using gradient descent.  Using the function `feval` defined above, implement gradient descent.  Run gradient descent with a step size of `alpha=1e-6` starting at `w=winit`.  Run it for `nit=10000` iterations.  Compute `fgd[it]`= the objective function on iteration `it`.  Plot `fgd[it]` vs. `it`.  \n",
    "\n",
    "You should see that the training loss decreases but does not fully converge after 10000 iterations."
   ]
  },
  {
   "cell_type": "code",
   "execution_count": 12,
   "metadata": {},
   "outputs": [
    {
     "data": {
      "text/plain": [
       "Text(0, 0.5, 'loss')"
      ]
     },
     "execution_count": 12,
     "metadata": {},
     "output_type": "execute_result"
    },
    {
     "data": {
      "image/png": "[encoded data removed]",
      "text/plain": [
       "<Figure size 432x288 with 1 Axes>"
      ]
     },
     "metadata": {
      "needs_background": "light"
     },
     "output_type": "display_data"
    }
   ],
   "source": [
    "# TODO\n",
    "# fgd = ...\n",
    "nit = 10000\n",
    "step = 1e-6\n",
    "hist = {'w':[], 'f':[]}\n",
    "w0 = winit\n",
    "\n",
    "for it in range(nit):\n",
    "\n",
    "    # Evaluate the function and gradient\n",
    "    f0, fgrad0 = feval(w0, xtr, ytr)\n",
    "\n",
    "    # Take a gradient step\n",
    "    w0 = w0 - step*fgrad0\n",
    "\n",
    "     # Save history\n",
    "    hist['f'].append(f0)\n",
    "    hist['w'].append(w0)\n",
    "\n",
    "# Convert to numpy arrays\n",
    "for elem in ('f', 'w'):\n",
    "    hist[elem] = np.array(hist[elem])\n",
    "    \n",
    "fgd = hist['f']\n",
    "wgd = hist['w']\n",
    "\n",
    "plt.plot(fgd)\n",
    "plt.grid()\n",
    "plt.xlabel('Number of Iteration')\n",
    "plt.ylabel('loss')"
   ]
  },
  {
   "cell_type": "markdown",
   "metadata": {},
   "source": [
    "Now try to get a faster convergence using adaptive step-size via the Armijo rule. Implement Armijo gradient descent.  Let `fadapt[it]` be the loss value that it attains on iteration `it`.  Plot `fadapt[it]` and `fgd[it]` vs. `it` on the same graph.  You should see some improvement, but also some lingering problems."
   ]
  },
  {
   "cell_type": "code",
   "execution_count": 13,
   "metadata": {
    "scrolled": true
   },
   "outputs": [
    {
     "data": {
      "text/plain": [
       "Text(0, 0.5, 'Loss')"
      ]
     },
     "execution_count": 13,
     "metadata": {},
     "output_type": "execute_result"
    },
    {
     "data": {
      "image/png": "[encoded data removed]",
      "text/plain": [
       "<Figure size 432x288 with 1 Axes>"
      ]
     },
     "metadata": {
      "needs_background": "light"
     },
     "output_type": "display_data"
    }
   ],
   "source": [
    "# TODO\n",
    "# fadapt = ...\n",
    "nit = 10000\n",
    "step = 1e-6  # Initial step\n",
    "w0 = winit\n",
    "f0, fgrad0 = feval(w0, xtr, ytr)\n",
    "hist = {'step':[], 'w':[], 'f':[]}\n",
    "\n",
    "for it in range(nit):\n",
    "\n",
    "    # Take a gradient step\n",
    "    w1 = w0 - step*fgrad0\n",
    "\n",
    "    # Evaluate the test point by computing the objective function, f1,\n",
    "    # at the test point and the predicted decrease, df_est\n",
    "    f1, fgrad1 = feval(w1, xtr, ytr)\n",
    "    df_est = fgrad0.dot(w1-w0)\n",
    "\n",
    "    # Check if test point passes the Armijo condition\n",
    "    alpha = 0.5\n",
    "    if (f1-f0 < alpha*df_est) and (f1 < f0):\n",
    "        # If descent is sufficient, accept the point and increase the\n",
    "        # learning rate\n",
    "        step = step*2\n",
    "        f0 = f1\n",
    "        fgrad0 = fgrad1\n",
    "        w0 = w1\n",
    "    else:\n",
    "        # Otherwise, decrease the learning rate\n",
    "        step = step/2            \n",
    "\n",
    "    # Save history\n",
    "    hist['f'].append(f0)\n",
    "    hist['step'].append(step)\n",
    "    hist['w'].append(w0)\n",
    "\n",
    "# Convert to numpy arrays\n",
    "for elem in ('f', 'step', 'w'):\n",
    "    hist[elem] = np.array(hist[elem])\n",
    "    \n",
    "fadapt = hist['f']\n",
    "wadapt = hist['w']\n",
    "\n",
    "plt.plot(fgd, 'b', label='fgd')\n",
    "plt.plot(fadapt, 'r', label='fadapt')\n",
    "plt.legend(bbox_to_anchor=(1.1,0.65), loc='upper left', borderaxespad=0.)\n",
    "plt.grid()\n",
    "plt.xlabel('Number of Iteration')\n",
    "plt.ylabel('Loss')"
   ]
  },
  {
   "cell_type": "markdown",
   "metadata": {},
   "source": [
    "Using the final estimate for `w` from the adaptive step-size approach, plot the predicted value of `yhat` vs. `x` for 1000 values of `x` in `[0,1]`.  On the same plot, plot `yhat` vs. `x` for the initial parameter `w=winit`.  Also, plot the test data, `yts` vs. `xts`.  You should see that gradient descent was able to improve the prediction model, although the initial prediction model was not too bad."
   ]
  },
  {
   "cell_type": "code",
   "execution_count": 14,
   "metadata": {},
   "outputs": [
    {
     "data": {
      "text/plain": [
       "(0, 1.5)"
      ]
     },
     "execution_count": 14,
     "metadata": {},
     "output_type": "execute_result"
    },
    {
     "data": {
      "image/png": "[encoded data removed]",
      "text/plain": [
       "<Figure size 432x288 with 1 Axes>"
      ]
     },
     "metadata": {
      "needs_background": "light"
     },
     "output_type": "display_data"
    }
   ],
   "source": [
    "# TODO\n",
    "# xp = np.linspace(...)\n",
    "# yhat = ...\n",
    "# plot(...)\n",
    "xp = np.linspace(0,1,1000)\n",
    "yhat = predict(wadapt[9999,:],xp)\n",
    "plt.plot(xp,yhat, '.r', label = 'yhat with w from adaptive step-size gd')\n",
    "plt.plot(xp,predict(winit,xp), '.b', label = 'yhat with winit')\n",
    "plt.plot(xts,yts, '.g', label = 'yts')\n",
    "plt.grid()\n",
    "plt.legend(bbox_to_anchor=(1.1,0.65), loc='upper left', borderaxespad=0.)\n",
    "plt.xlabel('x')\n",
    "plt.ylabel('y')\n",
    "plt.ylim([0, 1.5])"
   ]
  },
  {
   "cell_type": "markdown",
   "metadata": {},
   "source": [
    "## Momentum Gradient Descent\n",
    "\n",
    "This section is optional.\n",
    "\n",
    "One way to improve gradient descent is to use *momentum*.  With momentum, the gradient-descent update rule becomes:\n",
    "\n",
    "    f, fgrad = feval(w,...)\n",
    "    z = beta*z + fgrad\n",
    "    w = w - step*z\n",
    "    \n",
    "This is similar to gradient descent, except that the update direction `z` is the sum of the gradient `fgrad` and the previous update direction `z`, which tends to keep the algorithm moving in the same direction (instead of randomly changing directions, as it would if `z=fgrad`).  Implement momentum gradient-descent with `beta = 0.99` and `step=1e-5`.  Compare the convergence of this approach to plain gradient descent and the adaptive stepsize version.  "
   ]
  },
  {
   "cell_type": "code",
   "execution_count": 15,
   "metadata": {},
   "outputs": [
    {
     "data": {
      "text/plain": [
       "(0, 20)"
      ]
     },
     "execution_count": 15,
     "metadata": {},
     "output_type": "execute_result"
    },
    {
     "data": {
      "image/png": "[encoded data removed]",
      "text/plain": [
       "<Figure size 432x288 with 1 Axes>"
      ]
     },
     "metadata": {
      "needs_background": "light"
     },
     "output_type": "display_data"
    }
   ],
   "source": [
    "# TODO\n",
    "nit = 1000\n",
    "step = 1e-5\n",
    "beta = 0.99\n",
    "hist = {'w':[], 'f':[]}\n",
    "w0 = np.zeros(np.shape(winit))\n",
    "z = np.zeros(np.shape(winit))\n",
    "\n",
    "for it in range(nit):\n",
    "\n",
    "    # Evaluate the function and gradient\n",
    "    f0, fgrad0 = feval(w0, xtr, ytr)\n",
    "\n",
    "    # Calcuate z\n",
    "    z = beta*z + fgrad0\n",
    "    \n",
    "    # Take a gradient step\n",
    "    w0 = w0 - step*z\n",
    "\n",
    "     # Save history\n",
    "    hist['f'].append(f0)\n",
    "    hist['w'].append(w0)\n",
    "\n",
    "\n",
    "# Convert to numpy arrays\n",
    "for elem in ('f', 'w'):\n",
    "    hist[elem] = np.array(hist[elem])\n",
    "    \n",
    "fgdmom = hist['f']\n",
    "wgdmom = hist['w']\n",
    "\n",
    "plt.plot(fgdmom)\n",
    "plt.grid()\n",
    "plt.xlabel('Number of Iteration')\n",
    "plt.ylabel('loss')\n",
    "plt.ylim([0,20])"
   ]
  },
  {
   "cell_type": "code",
   "execution_count": 16,
   "metadata": {},
   "outputs": [
    {
     "data": {
      "text/plain": [
       "(0, 1.5)"
      ]
     },
     "execution_count": 16,
     "metadata": {},
     "output_type": "execute_result"
    },
    {
     "data": {
      "image/png": "[encoded data removed]",
      "text/plain": [
       "<Figure size 432x288 with 1 Axes>"
      ]
     },
     "metadata": {
      "needs_background": "light"
     },
     "output_type": "display_data"
    }
   ],
   "source": [
    "# TODO\n",
    "# plot yhat vs. x\n",
    "xp = np.linspace(0,1,1000)\n",
    "yhat = predict(wadapt[9999,:],xp)\n",
    "yhatmom = predict(wgdmom[999,:],xp)\n",
    "plt.plot(xp,yhat, '.r', label = 'yhat with w from adaptive step-size gd')\n",
    "plt.plot(xp,predict(winit,xp), '.b', label = 'yhat with winit')\n",
    "plt.plot(xts,yts, '.g', label = 'yts')\n",
    "plt.plot(xp,yhatmom, '.y', label = 'yhat with w from momentum gd')\n",
    "plt.grid()\n",
    "plt.legend(bbox_to_anchor=(1.1,0.65), loc='upper left', borderaxespad=0.)\n",
    "plt.xlabel('x')\n",
    "plt.ylabel('y')\n",
    "plt.ylim([0, 1.5])"
   ]
  },
  {
   "cell_type": "markdown",
   "metadata": {},
   "source": [
    "## Beyond This Lab\n",
    "In this lab, we have just touched at some of the ideas in optimization.  There are several other important algorithms that you can explore:\n",
    "* [Levenberg-Marquardt](https://en.wikipedia.org/wiki/Levenberg%E2%80%93Marquardt_algorithm) method for non-linear least squares\n",
    "* Newton's method\n",
    "* More difficult non-linear least squares problems."
   ]
  },
  {
   "cell_type": "code",
   "execution_count": null,
   "metadata": {},
   "outputs": [],
   "source": []
  },
  {
   "cell_type": "code",
   "execution_count": null,
   "metadata": {},
   "outputs": [],
   "source": []
  }
 ],
 "metadata": {
  "kernelspec": {
   "display_name": "Python 3",
   "language": "python",
   "name": "python3"
  },
  "language_info": {
   "codemirror_mode": {
    "name": "ipython",
    "version": 3
   },
   "file_extension": ".py",
   "mimetype": "text/x-python",
   "name": "python",
   "nbconvert_exporter": "python",
   "pygments_lexer": "ipython3",
   "version": "3.7.3"
  },
  "varInspector": {
   "cols": {
    "lenName": 16,
    "lenType": 16,
    "lenVar": 40
   },
   "kernels_config": {
    "python": {
     "delete_cmd_postfix": "",
     "delete_cmd_prefix": "del ",
     "library": "var_list.py",
     "varRefreshCmd": "print(var_dic_list())"
    },
    "r": {
     "delete_cmd_postfix": ") ",
     "delete_cmd_prefix": "rm(",
     "library": "var_list.r",
     "varRefreshCmd": "cat(var_dic_list()) "
    }
   },
   "types_to_exclude": [
    "module",
    "function",
    "builtin_function_or_method",
    "instance",
    "_Feature"
   ],
   "window_display": false
  }
 },
 "nbformat": 4,
 "nbformat_minor": 2
}
