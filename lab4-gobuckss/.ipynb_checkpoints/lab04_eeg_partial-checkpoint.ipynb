{
 "cells": [
  {
   "cell_type": "markdown",
   "metadata": {},
   "source": [
    "# Lab:  Source Localization for EEG\n",
    "\n",
    "EEG or [Electroencephalography](https://en.wikipedia.org/wiki/Electroencephalography) is a powerful tool for neuroscientists in understanding brain activity.  In EEG, a patient wears a headset with electrodes that measures voltages at a number of points on the scalp.  These voltages arise from ionic currents within the brain.  A common *inverse problem* is to estimate the which parts of the brain caused the measured response.  Source localization is useful in understanding which parts of the brain are involved in certain tasks.  A key challenge in this inverse problem is that the number of unknowns (possible locations in the brain) is much larger than the number of measurements.  In this lab, we will use LASSO regression on a real EEG dataset to overcome this problem and determine the brain region that is active under an auditory stimulus.\n",
    "\n",
    "In addition to the concepts in the [prostate LASSO demo](./demo_prostate.ipynb) you will learn to:\n",
    "* Represent responses of multi-channel time-series data, such as EEG, using linear models\n",
    "* Perform LASSO and Ridge regression\n",
    "* Select the regularization level via cross-validation\n",
    "* Visually compare the sparsity between the solutions\n",
    "\n",
    "We first download standard packages."
   ]
  },
  {
   "cell_type": "code",
   "execution_count": 1,
   "metadata": {},
   "outputs": [],
   "source": [
    "import numpy as np\n",
    "import matplotlib.pyplot as plt\n",
    "\n",
    "from sklearn.linear_model import Lasso, Ridge\n",
    "from sklearn.metrics import r2_score\n",
    "from sklearn.model_selection import train_test_split"
   ]
  },
  {
   "cell_type": "markdown",
   "metadata": {},
   "source": [
    "## Load the Data\n",
    "\n",
    "The data in this lab is taken from one of the sample datasets in the [MNE website](https://martinos.org/mne/stable/index.html). The sample data is a recording from one subject who experienced some auditory stimulus on the left ear.    \n",
    "\n",
    "The raw data is very large (`1.5G`) and also requires that you install the `mne` python package. To make this lab easier, I have extracted and processed a small section of the data.  The following command will get the data from the `pickle` file `eeg_dat.p`."
   ]
  },
  {
   "cell_type": "code",
   "execution_count": 2,
   "metadata": {},
   "outputs": [],
   "source": [
    "import pickle\n",
    "fn = 'eeg_dat.p'\n",
    "with open(fn, 'rb') as fp:\n",
    "    [X,Y] = pickle.load(fp)"
   ]
  },
  {
   "cell_type": "markdown",
   "metadata": {},
   "source": [
    "To understand the data, there are three key variables:\n",
    "* `nt`    = number of time steps that we measure data\n",
    "* `nchan` = number of channels (i.e. electrodes) measured in each time step\n",
    "* `ncur`  = number of currents in the brain that we want to estimate.  \n",
    "\n",
    "Current is measured at each brain region (called a *voxel*) in three separate directions: `x`, `y`, and `z`.  So,\n",
    "\n",
    "    nvoxels = ncur / 3\n",
    "    \n",
    "The components of the `X` and `Y` matrices are:\n",
    "*  `Y[i,k]` = electric field measurement on channel `i` at time `k`\n",
    "*  `X[i,j]` = sensitivity of channel `i` to current `j`.\n",
    "\n",
    "Using `X.shape` and `Y.shape` compute and print `nt`, `nchan`, `ncur` and `nvoxels`."
   ]
  },
  {
   "cell_type": "code",
   "execution_count": 3,
   "metadata": {},
   "outputs": [
    {
     "name": "stdout",
     "output_type": "stream",
     "text": [
      "Number of time step: nt =  85\n",
      "Number of channels: nchan 305\n",
      "Number of currents: ncur =  22494\n",
      "Number of voxels: nvoxels =  7498.0\n"
     ]
    }
   ],
   "source": [
    "# TODO\n",
    "# nt = ...\n",
    "# ncur = ...\n",
    "# nchan = ...\n",
    "# nvoxels\n",
    "nt = Y.shape[1]\n",
    "ncur = X.shape[1]\n",
    "nchan = X.shape[0]\n",
    "nvoxels = ncur/3\n",
    "print(\"Number of time step: nt = \",nt)\n",
    "print(\"Number of channels: nchan\",nchan)\n",
    "print(\"Number of currents: ncur = \",ncur)\n",
    "print(\"Number of voxels: nvoxels = \",nvoxels)"
   ]
  },
  {
   "cell_type": "markdown",
   "metadata": {},
   "source": [
    "## The need for Regularization\n",
    "\n",
    "Our goal is to estimate the currents `W` in the brain from the measurements `Y`.  We will use the linear model\n",
    "\n",
    "    Y[i,k]  = \\sum_j X[i,j]*W[j,k]+ b[k]\n",
    "\n",
    "where `W[j,k]` is the value of current `j` at time `k` and where `b[k]` is a bias.  We can solve for the current matrix `W` via linear regression.  \n",
    "\n",
    "Note that this model differs slightly from the linear regression model that we considered in the lectures, in the following sense. At sample index `i`, the target is a *vector* `Y[i,:]` (not a scalar `y[i]`). Thus, the regresson coefficients `W[j,:]` must also be *vectors* (rather than a scalars `w[j]`) and the bias `b[:]` must also be a *vector* (rather than a scalar `b`).  In other words, if we consider a *single* value of `k` in the above model, then we get a model like that described in the lectures, which takes the form `y[i] = \\sum_j X[i,j]*w[j] + b`.  But in this lab, we have several values of `k`.\n",
    "\n",
    "However, there is a major problem:\n",
    "*  There are `nt` times `ncur` unknowns in `W`\n",
    "*  There are `nt` time `nchan` measurements in `Y`\n",
    "*  `ncur` is much larger than `nchan`\n",
    "\n",
    "In other words, we have\n",
    "\n",
    "    number of unknowns >> number of measurements\n",
    "    \n",
    "In this case, the least-squares solution is not unique (and the matrix we'd like to invert when computing the least-squares solution is not invertible).  We can remedy this problem using regularization.  We first try Ridge regression, and later LASSO.\n"
   ]
  },
  {
   "cell_type": "markdown",
   "metadata": {},
   "source": [
    "## Ridge Regression\n",
    "\n",
    "First split the data into training and test.  Use the `train_test_split` function with `test_size=0.33`."
   ]
  },
  {
   "cell_type": "code",
   "execution_count": 4,
   "metadata": {},
   "outputs": [],
   "source": [
    "# TODO\n",
    "# Xtr,Xts,Ytr,Yts = train_test_split(...) \n",
    "Xtr,Xts,Ytr,Yts = train_test_split(X,Y,test_size = 0.33)"
   ]
  },
  {
   "cell_type": "markdown",
   "metadata": {},
   "source": [
    "Use the `Ridge` regression object in `sklearn` to fit the model on the training data.  Start with a regularization weight of `alpha=1` and see how well this works."
   ]
  },
  {
   "cell_type": "code",
   "execution_count": 5,
   "metadata": {},
   "outputs": [
    {
     "data": {
      "text/plain": [
       "Ridge(alpha=1, copy_X=True, fit_intercept=True, max_iter=None, normalize=False,\n",
       "      random_state=None, solver='auto', tol=0.001)"
      ]
     },
     "execution_count": 5,
     "metadata": {},
     "output_type": "execute_result"
    }
   ],
   "source": [
    "# TODO\n",
    "# regr = Ridge(...)\n",
    "regr = Ridge(alpha=1)\n",
    "regr.fit(Xtr,Ytr)"
   ]
  },
  {
   "cell_type": "markdown",
   "metadata": {},
   "source": [
    "Predict the values `Y` on both the training and test data.  Use the `r2_score` method to measure the `R^2` value on both the training and test.  You will see that `R^2` value is large for the training data, while it is very low for the test data.  This suggest that, with regularization weight `alpha=1`, the model is over-fitting the data."
   ]
  },
  {
   "cell_type": "code",
   "execution_count": 6,
   "metadata": {},
   "outputs": [
    {
     "name": "stdout",
     "output_type": "stream",
     "text": [
      "R^2 for training data is : rsq_tr =  0.561279771406214\n",
      "R^2 for testing data is : rsq_ts =  0.13643245327898204\n"
     ]
    }
   ],
   "source": [
    "# TODO\n",
    "# rsq_tr = ...\n",
    "# rsq_ts = ...\n",
    "rsq_tr = r2_score(Ytr,regr.predict(Xtr))\n",
    "rsq_ts = r2_score(Yts,regr.predict(Xts))\n",
    "print(\"R^2 for training data is : rsq_tr = \", rsq_tr)\n",
    "print(\"R^2 for testing data is : rsq_ts = \", rsq_ts)"
   ]
  },
  {
   "cell_type": "markdown",
   "metadata": {},
   "source": [
    "Next, try to see if we can get a better `R^2` score using a different value of `alpha`.  In particular, use cross-validation to measure the test `R^2` for 20 `alpha` values logarithmically spaced from `10^{-2}` to `10^{2}` (use `np.logspace()`).  You can use cross-validation on the train/test split from above.  You do not need to do `K`-fold."
   ]
  },
  {
   "cell_type": "code",
   "execution_count": 7,
   "metadata": {},
   "outputs": [],
   "source": [
    "# TODO\n",
    "alpha_test = np.logspace(-2,2,num=20)\n",
    "RSStest = []\n",
    "RSStr = []\n",
    "for a in alpha_test:\n",
    "    \n",
    "    # Fit data\n",
    "    regr = Ridge(alpha=a)\n",
    "    regr.fit(Xtr,Ytr)\n",
    "    \n",
    "    # Measure RSS on training data\n",
    "    # This is not necessary, but we do it just to show the training error\n",
    "    rsq_tr = r2_score(Ytr,regr.predict(Xtr))\n",
    "    RSStr.append(rsq_tr)\n",
    "    \n",
    "    # Measure RSS on test data\n",
    "    rsq_ts = r2_score(Yts,regr.predict(Xts))\n",
    "    RSStest.append(rsq_ts)"
   ]
  },
  {
   "cell_type": "markdown",
   "metadata": {},
   "source": [
    "Plot the test `R^2` vs. `alpha`.  And print the maximum test `R^2`.  You should see that the maximum test `R^2` is better, but still not very high."
   ]
  },
  {
   "cell_type": "code",
   "execution_count": 8,
   "metadata": {},
   "outputs": [
    {
     "name": "stdout",
     "output_type": "stream",
     "text": [
      "The maximum R^2 score for testing data is :  0.22996803608011376\n"
     ]
    },
    {
     "data": {
      "image/png": "[encoded data removed]",
      "text/plain": [
       "<Figure size 432x288 with 1 Axes>"
      ]
     },
     "metadata": {
      "needs_background": "light"
     },
     "output_type": "display_data"
    }
   ],
   "source": [
    "# TODO\n",
    "plt.semilogx(alpha_test,RSStr,'bo-')\n",
    "plt.semilogx(alpha_test,RSStest,'go-')\n",
    "plt.xlabel('Alpha')\n",
    "plt.ylabel('RSS')\n",
    "plt.grid()\n",
    "plt.ylim(0,10^2)\n",
    "plt.ylim(0,0.9)\n",
    "plt.legend(['Training','Test'],loc='upper right')\n",
    "print(\"The maximum R^2 score for testing data is : \", max(RSStest))"
   ]
  },
  {
   "cell_type": "markdown",
   "metadata": {},
   "source": [
    "Now, let's take a closer look at the solution. \n",
    "\n",
    "* Find the optimal regularization `alpha` from the above cross-validation\n",
    "* Re-fit the model using the training data and the optimal `alpha` \n",
    "* Extract the matrix `W` of linear model coefficients.  These are stored as `regr.coef_` in transposed form, so apply a transpose to get W as we defined it above\n",
    "* For each current `j` compute `Wrms[j] =  sqrt( sum_k W[j,k]**2 )` which is the root mean squared value across time.\n",
    "\n",
    "You will see that the RMS current vector `Wrms` is not sparse.  This means that the solution found by Ridge regression allows non-zero currents in all locations."
   ]
  },
  {
   "cell_type": "code",
   "execution_count": 9,
   "metadata": {},
   "outputs": [
    {
     "name": "stdout",
     "output_type": "stream",
     "text": [
      "[1.49145568 0.57829771 0.86605798 ... 0.01016271 0.31821534 0.74390725]\n"
     ]
    }
   ],
   "source": [
    "# TODO\n",
    "alpha = alpha_test[np.argmax(RSStest)]\n",
    "regr = Ridge(alpha=1)\n",
    "regr.fit(Xtr,Ytr)\n",
    "W = np.transpose(regr.coef_)\n",
    "Wrms = np.sqrt(W.sum(axis=1)**2)\n",
    "print(Wrms)"
   ]
  },
  {
   "cell_type": "markdown",
   "metadata": {},
   "source": [
    "## LASSO Regression\n",
    "\n",
    "We can improve the estimate by rewarding sparsity.  Biologically, we know that only a limited number of brain regions should be involved in the response to a particular stimuli.  As a result, we expect that the current matrix `W[j,k]` should be zero-valued for most locations `j` at each time `k`.  We can impose this constraint using LASSO regularization with an appropriate strength `alpha`.\n",
    "\n",
    "Re-fit the training data using the `Lasso` model with `alpha=1e-4`.  Also set `max_iter=100` and `tol=0.01`.  The LASSO solver is much slower than Ridge regression, so this may take a minute."
   ]
  },
  {
   "cell_type": "code",
   "execution_count": 10,
   "metadata": {},
   "outputs": [
    {
     "data": {
      "text/plain": [
       "Lasso(alpha=0.0001, copy_X=True, fit_intercept=True, max_iter=100,\n",
       "      normalize=False, positive=False, precompute=False, random_state=None,\n",
       "      selection='cyclic', tol=0.01, warm_start=True)"
      ]
     },
     "execution_count": 10,
     "metadata": {},
     "output_type": "execute_result"
    }
   ],
   "source": [
    "# TODO\n",
    "lasso = Lasso(warm_start=True)\n",
    "lasso.alpha = 1e-4\n",
    "lasso.max_iter = 100\n",
    "lasso.tol = 0.01\n",
    "lasso.fit(Xtr,Ytr)"
   ]
  },
  {
   "cell_type": "markdown",
   "metadata": {},
   "source": [
    "Next, evaluate the model on the test data and measure the `R^2` value.  You should get a better fit than you did with Ridge regression.  "
   ]
  },
  {
   "cell_type": "code",
   "execution_count": 11,
   "metadata": {},
   "outputs": [
    {
     "name": "stdout",
     "output_type": "stream",
     "text": [
      "R^2 score for testing data is : 0.33323922685035867\n"
     ]
    }
   ],
   "source": [
    "# TODO\n",
    "yts_pred = lasso.predict(Xts)\n",
    "rsq_tr = r2_score(Yts,yts_pred)\n",
    "print(\"R^2 score for testing data is :\", rsq_tr)"
   ]
  },
  {
   "cell_type": "markdown",
   "metadata": {},
   "source": [
    "Still, the value `alpha=1e-4` was only a guess.  We should do even better with the optimal `alpha`. \n",
    "\n",
    "Use cross-validation (with the above test/train split) to evaluate different values of `alpha` logarithically spaced between `alpha=1e-4` and `alpha=1e-3`.  Computing each fit may take some time, so use only 5 values of `alpha`. Also, for each `alpha` you try, store the matrix `W`.  This way, you will not have to re-fit the model if you want to examine the entries of `W`."
   ]
  },
  {
   "cell_type": "code",
   "execution_count": 12,
   "metadata": {},
   "outputs": [
    {
     "name": "stdout",
     "output_type": "stream",
     "text": [
      "The maximum R^2 score for testing data is :  0.36342913234940905\n"
     ]
    }
   ],
   "source": [
    "# TODO\n",
    "alpha_test_lasso = np.logspace(-4,-3,num=5)\n",
    "RSStest = []\n",
    "RSStr = []\n",
    "W_all = np.empty((lasso.coef_.shape[1],lasso.coef_.shape[0],1))\n",
    "for a in alpha_test_lasso:\n",
    "    \n",
    "    # Fit data\n",
    "    lasso.alpha = a\n",
    "    lasso.fit(Xtr,Ytr)\n",
    "    \n",
    "    # Measure RSS on training data\n",
    "    # This is not necessary, but we do it just to show the training error\n",
    "    rsq_tr = r2_score(Ytr,lasso.predict(Xtr))\n",
    "    RSStr.append(rsq_tr)\n",
    "    \n",
    "    # Measure RSS on test data\n",
    "    rsq_ts = r2_score(Yts,lasso.predict(Xts))\n",
    "    RSStest.append(rsq_ts)\n",
    "    \n",
    "    W = np.transpose(lasso.coef_)\n",
    "    W = W.reshape((W.shape[0], W.shape[1], 1))\n",
    "    W_all = np.dstack((W_all,W))\n",
    "    \n",
    "W_all = np.delete(W_all, 0, axis=2)\n",
    "print(\"The maximum R^2 score for testing data is : \", max(RSStest))"
   ]
  },
  {
   "cell_type": "markdown",
   "metadata": {},
   "source": [
    "Plot the `R^2` value vs. `alpha`.  Print the optimal `R^2`.  You should see it is higher than with the best Ridge Regression case."
   ]
  },
  {
   "cell_type": "code",
   "execution_count": 13,
   "metadata": {},
   "outputs": [
    {
     "name": "stdout",
     "output_type": "stream",
     "text": [
      "The maximum R^2 score for testing data is :  0.36342913234940905\n"
     ]
    },
    {
     "data": {
      "image/png": "[encoded data removed]",
      "text/plain": [
       "<Figure size 432x288 with 1 Axes>"
      ]
     },
     "metadata": {
      "needs_background": "light"
     },
     "output_type": "display_data"
    }
   ],
   "source": [
    "# TODO\n",
    "plt.semilogx(alpha_test_lasso,RSStr,'bo-')\n",
    "plt.semilogx(alpha_test_lasso,RSStest,'go-')\n",
    "plt.xlabel('Alpha')\n",
    "plt.ylabel('RSS')\n",
    "plt.grid()\n",
    "plt.legend(['Training','Test'],loc='upper right')\n",
    "print(\"The maximum R^2 score for testing data is : \", max(RSStest))"
   ]
  },
  {
   "cell_type": "markdown",
   "metadata": {},
   "source": [
    "Display the RMS current values `Wrms` for the optimal `alpha`, as you did in the Ridge Regression case.  You will see that is much sparser."
   ]
  },
  {
   "cell_type": "code",
   "execution_count": 14,
   "metadata": {},
   "outputs": [
    {
     "name": "stdout",
     "output_type": "stream",
     "text": [
      "Wrms for optimal alpha: \n",
      "[11.89693438  0.          0.         ...  0.          0.\n",
      "  0.        ]\n"
     ]
    }
   ],
   "source": [
    "# TODO\n",
    "max_index = RSStest.index(max(RSStest))\n",
    "W = W_all[:,:,max_index]\n",
    "Wrms = np.sqrt(W.sum(axis=1)**2)\n",
    "print(\"Wrms for optimal alpha: \")\n",
    "print(Wrms)"
   ]
  },
  {
   "cell_type": "markdown",
   "metadata": {},
   "source": [
    "## More fun\n",
    "\n",
    "If you want to dive deeper into this application:\n",
    "* Install the [MNE python package](https://martinos.org/mne/stable/index.html).  This is an amazing package with many tools for processing EEG data.\n",
    "* In particular, you can use the above to visualize where in the brain the currents are active.\n",
    "* You can also improve the fitting with better regularization.  For example, you could experiment with the combination of LASSO and ridge regression, known as ElasticNet.  There is a regression object for this in sklearn.linear_model.\n",
    "* We could also use a more sophisticated regularization technique called Group LASSO, that encourages *entire rows* of the `W` matrix to be zero-valued.  This is appropriate in this application because, if the current is zero for one time, it is likely to be zero for all time. \n",
    "* You can even use the recovered current patterns to make predictions about what the patient is seeing or hearing or thinking!  It sounds like science-fiction, but it has been demonstrated to work to a certain extent!"
   ]
  },
  {
   "cell_type": "code",
   "execution_count": null,
   "metadata": {},
   "outputs": [],
   "source": []
  }
 ],
 "metadata": {
  "kernelspec": {
   "display_name": "Python 3",
   "language": "python",
   "name": "python3"
  },
  "language_info": {
   "codemirror_mode": {
    "name": "ipython",
    "version": 3
   },
   "file_extension": ".py",
   "mimetype": "text/x-python",
   "name": "python",
   "nbconvert_exporter": "python",
   "pygments_lexer": "ipython3",
   "version": "3.7.3"
  },
  "varInspector": {
   "cols": {
    "lenName": 16,
    "lenType": 16,
    "lenVar": 40
   },
   "kernels_config": {
    "python": {
     "delete_cmd_postfix": "",
     "delete_cmd_prefix": "del ",
     "library": "var_list.py",
     "varRefreshCmd": "print(var_dic_list())"
    },
    "r": {
     "delete_cmd_postfix": ") ",
     "delete_cmd_prefix": "rm(",
     "library": "var_list.r",
     "varRefreshCmd": "cat(var_dic_list()) "
    }
   },
   "types_to_exclude": [
    "module",
    "function",
    "builtin_function_or_method",
    "instance",
    "_Feature"
   ],
   "window_display": false
  }
 },
 "nbformat": 4,
 "nbformat_minor": 2
}
