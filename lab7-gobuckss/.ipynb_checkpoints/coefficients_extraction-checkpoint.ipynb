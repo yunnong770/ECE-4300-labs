{
 "cells": [
  {
   "cell_type": "code",
   "execution_count": 1,
   "metadata": {},
   "outputs": [],
   "source": [
    "import pandas as pd\n",
    "import numpy as np\n",
    "import matplotlib.pyplot as plt\n",
    "%matplotlib inline"
   ]
  },
  {
   "cell_type": "code",
   "execution_count": 6,
   "metadata": {},
   "outputs": [],
   "source": [
    "bankdata = pd.read_csv(\"./bill_authentication.csv\")"
   ]
  },
  {
   "cell_type": "code",
   "execution_count": 8,
   "metadata": {},
   "outputs": [],
   "source": [
    "X = bankdata.drop('Class', axis=1)\n",
    "y = bankdata['Class']\n",
    "from sklearn.model_selection import train_test_split\n",
    "X_train, X_test, y_train, y_test = train_test_split(X, y, test_size = 0.20)"
   ]
  },
  {
   "cell_type": "code",
   "execution_count": 38,
   "metadata": {},
   "outputs": [
    {
     "data": {
      "text/plain": [
       "SVC(C=1.0, break_ties=False, cache_size=200, class_weight=None, coef0=0.0,\n",
       "    decision_function_shape='ovr', degree=3, gamma='scale', kernel='rbf',\n",
       "    max_iter=-1, probability=False, random_state=None, shrinking=True,\n",
       "    tol=0.001, verbose=False)"
      ]
     },
     "execution_count": 38,
     "metadata": {},
     "output_type": "execute_result"
    }
   ],
   "source": [
    "from sklearn.svm import SVC\n",
    "svmclassifier = SVC(kernel='rbf')\n",
    "svmclassifier.fit(X_train, y_train)"
   ]
  },
  {
   "cell_type": "code",
   "execution_count": 37,
   "metadata": {},
   "outputs": [
    {
     "data": {
      "text/plain": [
       "array([2.36580561])"
      ]
     },
     "execution_count": 37,
     "metadata": {},
     "output_type": "execute_result"
    }
   ],
   "source": [
    "svmclassifier.intercept_"
   ]
  },
  {
   "cell_type": "code",
   "execution_count": 42,
   "metadata": {},
   "outputs": [
    {
     "data": {
      "text/plain": [
       "array([[-1.        , -1.        , -0.51590065, -1.        , -1.        ,\n",
       "        -1.        , -1.        , -0.70606819, -1.        , -1.        ,\n",
       "        -1.        , -1.        , -1.        , -1.        , -1.        ,\n",
       "        -1.        , -0.55184369, -0.64496585, -1.        , -1.        ,\n",
       "        -1.        , -1.        , -1.        , -1.        , -1.        ,\n",
       "        -1.        , -1.        , -1.        , -1.        , -1.        ,\n",
       "        -1.        , -0.28140983, -1.        , -0.50805732, -0.71403766,\n",
       "        -1.        , -0.88994977, -0.86486387, -1.        , -1.        ,\n",
       "        -1.        , -1.        ,  1.        ,  0.98702289,  1.        ,\n",
       "         1.        ,  1.        ,  1.        ,  1.        ,  1.        ,\n",
       "         1.        ,  1.        ,  1.        ,  1.        ,  0.52351546,\n",
       "         0.1865873 ,  1.        ,  0.89020891,  0.40414794,  0.69762366,\n",
       "         0.82513756,  0.59783884,  1.        ,  1.        ,  1.        ,\n",
       "         1.        ,  1.        ,  1.        ,  1.        ,  1.        ,\n",
       "         1.        ,  1.        ,  1.        ,  1.        ,  0.44293687,\n",
       "         1.        ,  1.        ,  1.        ,  0.30483951,  1.        ,\n",
       "         0.23043252,  0.43477266,  1.        ,  1.        ,  1.        ,\n",
       "         1.        ,  0.15203272]])"
      ]
     },
     "execution_count": 42,
     "metadata": {},
     "output_type": "execute_result"
    }
   ],
   "source": [
    "svmclassifier.dual_coef_"
   ]
  },
  {
   "cell_type": "code",
   "execution_count": 36,
   "metadata": {},
   "outputs": [
    {
     "data": {
      "text/plain": [
       "array([[ 3.79800e-01,  7.09800e-01,  7.57200e-01, -4.44400e-01],\n",
       "       [ 5.70600e-01, -2.48000e-02,  1.24210e+00, -5.62100e-01],\n",
       "       [ 3.79800e-01,  7.09800e-01,  7.57200e-01, -4.44400e-01],\n",
       "       [ 5.19500e-01, -3.26330e+00,  3.08950e+00, -9.84900e-01],\n",
       "       [-7.86900e-01,  9.56630e+00, -3.78670e+00, -7.50340e+00],\n",
       "       [ 3.29200e-01, -4.45520e+00,  4.57180e+00, -9.88800e-01],\n",
       "       [ 5.70600e-01, -2.48000e-02,  1.24210e+00, -5.62100e-01],\n",
       "       [ 5.70600e-01, -2.48000e-02,  1.24210e+00, -5.62100e-01],\n",
       "       [ 3.29200e-01, -4.45520e+00,  4.57180e+00, -9.88800e-01],\n",
       "       [ 3.29200e-01, -4.45520e+00,  4.57180e+00, -9.88800e-01],\n",
       "       [-1.85840e+00,  7.88600e+00, -1.66430e+00, -1.83840e+00],\n",
       "       [ 5.19470e-01, -3.26330e+00,  3.08950e+00, -9.84920e-01],\n",
       "       [ 5.70600e-01, -2.48000e-02,  1.24210e+00, -5.62100e-01],\n",
       "       [-1.85840e+00,  7.88600e+00, -1.66430e+00, -1.83840e+00],\n",
       "       [ 5.70600e-01, -2.48410e-02,  1.24210e+00, -5.62080e-01],\n",
       "       [ 3.79800e-01,  7.09800e-01,  7.57200e-01, -4.44400e-01],\n",
       "       [-7.86900e-01,  9.56630e+00, -3.78670e+00, -7.50340e+00],\n",
       "       [ 5.19500e-01, -3.26330e+00,  3.08950e+00, -9.84900e-01],\n",
       "       [ 5.19500e-01, -3.26330e+00,  3.08950e+00, -9.84900e-01],\n",
       "       [ 5.19500e-01, -3.26330e+00,  3.08950e+00, -9.84900e-01],\n",
       "       [ 1.74250e+00,  3.68330e+00, -4.01290e+00, -1.72070e+00],\n",
       "       [ 3.18030e-01, -9.93260e-01,  1.09470e+00,  8.86190e-01],\n",
       "       [-1.72790e+00, -6.84100e+00,  8.94940e+00,  6.80580e-01],\n",
       "       [ 1.67990e+00,  4.20680e+00, -4.53980e+00, -2.39310e+00],\n",
       "       [ 2.03100e+00,  1.85200e+00, -3.01210e+00,  3.00300e-03],\n",
       "       [ 1.56310e+00,  8.95990e-01, -1.97020e+00,  6.54720e-01],\n",
       "       [ 2.19430e+00,  4.55030e+00, -4.97600e+00, -2.72540e+00],\n",
       "       [-3.37930e+00, -1.37731e+01,  1.79274e+01, -2.03230e+00],\n",
       "       [-3.23050e+00, -7.21350e+00,  1.16433e+01, -9.46130e-01],\n",
       "       [ 2.39170e+00,  4.55650e+00, -4.98880e+00, -2.89870e+00],\n",
       "       [-2.83910e+00, -6.63000e+00,  1.04849e+01, -4.21130e-01],\n",
       "       [ 1.45010e+00,  3.60670e+00, -4.05570e+00, -1.59660e+00],\n",
       "       [-2.90200e+00, -7.65630e+00,  1.18318e+01, -8.42680e-01],\n",
       "       [ 5.59390e-01, -3.10400e-01,  1.83070e-01,  4.46530e-01],\n",
       "       [ 2.22790e+00,  4.09510e+00, -4.80370e+00, -2.11120e+00],\n",
       "       [ 2.01770e+00,  1.79820e+00, -2.95810e+00,  2.09900e-01],\n",
       "       [ 1.78750e+00,  4.78000e+00, -5.13620e+00, -3.23620e+00],\n",
       "       [-3.18750e+00, -7.57560e+00,  1.18678e+01, -5.78890e-01]])"
      ]
     },
     "execution_count": 36,
     "metadata": {},
     "output_type": "execute_result"
    }
   ],
   "source": [
    "svmclassifier.support_vectors_"
   ]
  },
  {
   "cell_type": "code",
   "execution_count": null,
   "metadata": {},
   "outputs": [],
   "source": []
  }
 ],
 "metadata": {
  "kernelspec": {
   "display_name": "Python 3",
   "language": "python",
   "name": "python3"
  },
  "language_info": {
   "codemirror_mode": {
    "name": "ipython",
    "version": 3
   },
   "file_extension": ".py",
   "mimetype": "text/x-python",
   "name": "python",
   "nbconvert_exporter": "python",
   "pygments_lexer": "ipython3",
   "version": "3.7.3"
  }
 },
 "nbformat": 4,
 "nbformat_minor": 2
}
